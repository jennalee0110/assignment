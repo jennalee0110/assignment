{
 "cells": [
  {
   "cell_type": "markdown",
   "id": "8870b89b-a593-4da1-ac5b-9e9e9adb13c3",
   "metadata": {},
   "source": [
    "# Data Science Tools and Ecosystem"
   ]
  },
  {
   "cell_type": "markdown",
   "id": "09faaacf-1593-4ecd-b8bc-69045bf3389b",
   "metadata": {},
   "source": [
    "In this notebook, Data Science Tools and Ecosystem are summarized."
   ]
  },
  {
   "cell_type": "markdown",
   "id": "22598827-9533-46a6-971a-2aabfde24a6e",
   "metadata": {},
   "source": [
    "Some of the popular languages that Data Scientists use are:\n",
    "1. Python\n",
    "2. R-coding\n",
    "3. SQL"
   ]
  },
  {
   "cell_type": "markdown",
   "id": "47b42870-db4c-4c30-adb8-381c1dd80f26",
   "metadata": {},
   "source": [
    "Some of the commonly used libraries used by Data Scientists include:\n",
    "1. Pandas\n",
    "2. Tensorflow\n",
    "3. Ploty"
   ]
  },
  {
   "cell_type": "markdown",
   "id": "9b12513f-73f7-410d-b554-4eb353feaec1",
   "metadata": {},
   "source": [
    "| Data Science Tools | \n",
    "|:--------:|\n",
    "|  jupyter notebook   | \n",
    "|  mysql  | \n",
    "|  apache   |"
   ]
  },
  {
   "cell_type": "markdown",
   "id": "cb773c8a-9122-40c9-9d96-2de412b1d337",
   "metadata": {},
   "source": [
    "###  Below are a few examples of evaluating arithmetic expressions in Python"
   ]
  },
  {
   "cell_type": "code",
   "execution_count": 2,
   "id": "2fab296e-2ab0-4415-8f06-10e0382976fe",
   "metadata": {},
   "outputs": [
    {
     "data": {
      "text/plain": [
       "17"
      ]
     },
     "execution_count": 2,
     "metadata": {},
     "output_type": "execute_result"
    }
   ],
   "source": [
    "(3*4)+5\n",
    "## This a simple arithmetic expression to mutiply then add integers"
   ]
  },
  {
   "cell_type": "code",
   "execution_count": 7,
   "id": "b1fdc93b-3b90-4c4c-8f50-301c4e96d896",
   "metadata": {},
   "outputs": [
    {
     "data": {
      "text/plain": [
       "3.3333333333333335"
      ]
     },
     "execution_count": 7,
     "metadata": {},
     "output_type": "execute_result"
    }
   ],
   "source": [
    "##This will convert 200 minutes to hours by diving by 60\n",
    "minute = 200 \n",
    "hour = minute/60\n",
    "hour"
   ]
  },
  {
   "cell_type": "markdown",
   "id": "5b47be84-ce83-4214-83ce-54c66d6a7916",
   "metadata": {},
   "source": [
    "**Objectives:**\n",
    "* List popular languages for Data Science\n",
    "* commonly used libraries used by Data Scientists\n",
    "* development environment open source tools used in data science"
   ]
  },
  {
   "cell_type": "markdown",
   "id": "7b6aa07c-416f-462d-8faa-4673ae1f30dc",
   "metadata": {},
   "source": [
    "## Author \n",
    "Yerin Lee"
   ]
  },
  {
   "cell_type": "code",
   "execution_count": null,
   "id": "723fad6b-9b64-4451-b72a-8d69b3ab1ec6",
   "metadata": {},
   "outputs": [],
   "source": []
  }
 ],
 "metadata": {
  "kernelspec": {
   "display_name": "Python 3 (ipykernel)",
   "language": "python",
   "name": "python3"
  },
  "language_info": {
   "codemirror_mode": {
    "name": "ipython",
    "version": 3
   },
   "file_extension": ".py",
   "mimetype": "text/x-python",
   "name": "python",
   "nbconvert_exporter": "python",
   "pygments_lexer": "ipython3",
   "version": "3.11.9"
  }
 },
 "nbformat": 4,
 "nbformat_minor": 5
}
